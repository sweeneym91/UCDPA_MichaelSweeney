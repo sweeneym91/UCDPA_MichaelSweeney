{
 "cells": [
  {
   "cell_type": "code",
   "execution_count": 4,
   "id": "7289f41e",
   "metadata": {},
   "outputs": [],
   "source": [
    "#Importing Libraries\n",
    "# Pandas,Numpy, Matplotlib, Seaborn, Json, request\n",
    "import pandas as pd\n",
    "import numpy as np\n",
    "import matplotlib.pyplot as plt\n",
    "import seaborn as sns\n",
    "%matplotlib inline\n",
    "import json\n",
    "import requests\n",
    "import random"
   ]
  },
  {
   "cell_type": "markdown",
   "id": "c825a089",
   "metadata": {},
   "source": [
    "## Reading data from local csv file\n",
    "Dataset Source : https://www.kaggle.com/tmdb/tmdb-movie-metadata"
   ]
  },
  {
   "cell_type": "code",
   "execution_count": 5,
   "id": "a88a202c",
   "metadata": {},
   "outputs": [],
   "source": [
    "#Importing CSV files\n",
    "#TMDB dataset source : https://www.kaggle.com/tmdb/tmdb-movie-metadata\n",
    "\n",
    "\n",
    "#this file contains TMDB movies data\n",
    "df_movies=pd.read_csv('tmdb_5000_movies.csv')\n",
    "\n",
    "#this file contains TMDB movies Credit data\n",
    "df_credits=pd.read_csv('tmdb_5000_credits.csv')\n",
    "\n",
    "#df_movies.info()\n",
    "#df_credits.info()"
   ]
  }
 ],
 "metadata": {
  "kernelspec": {
   "display_name": "Python 3 (ipykernel)",
   "language": "python",
   "name": "python3"
  },
  "language_info": {
   "codemirror_mode": {
    "name": "ipython",
    "version": 3
   },
   "file_extension": ".py",
   "mimetype": "text/x-python",
   "name": "python",
   "nbconvert_exporter": "python",
   "pygments_lexer": "ipython3",
   "version": "3.9.7"
  }
 },
 "nbformat": 4,
 "nbformat_minor": 5
}
