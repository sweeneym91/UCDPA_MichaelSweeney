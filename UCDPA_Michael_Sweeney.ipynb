{
 "cells": [
  {
   "cell_type": "code",
   "execution_count": 29,
   "id": "7289f41e",
   "metadata": {},
   "outputs": [],
   "source": [
    "#Importing Libraries\n",
    "# Pandas,Numpy, Matplotlib, Seaborn, Json, request\n",
    "import pandas as pd\n",
    "import numpy as np\n",
    "import matplotlib.pyplot as plt\n",
    "import seaborn as sns\n",
    "%matplotlib inline\n",
    "import json\n",
    "import requests\n",
    "import random"
   ]
  },
  {
   "cell_type": "markdown",
   "id": "c825a089",
   "metadata": {},
   "source": [
    "## Reading data from local csv file\n",
    "Dataset Source : https://www.kaggle.com/tmdb/tmdb-movie-metadata"
   ]
  },
  {
   "cell_type": "code",
   "execution_count": 30,
   "id": "f2ed38e6",
   "metadata": {},
   "outputs": [],
   "source": [
    "#Importing CSV files\n",
    "#TMDB dataset source : https://www.kaggle.com/tmdb/tmdb-movie-metadata\n",
    "\n",
    "\n",
    "#this file contains TMDB movies data\n",
    "df_movies=pd.read_csv('tmdb_5000_movies.csv')\n",
    "\n",
    "#this file contains TMDB movies Credit data\n",
    "df_credits=pd.read_csv('tmdb_5000_credits.csv')\n",
    "\n",
    "#df_movies.info()\n",
    "#df_credits.info()"
   ]
  },
  {
   "cell_type": "code",
   "execution_count": 31,
   "id": "eb67ee71",
   "metadata": {
    "scrolled": true
   },
   "outputs": [
    {
     "data": {
      "text/html": [
       "<div>\n",
       "<style scoped>\n",
       "    .dataframe tbody tr th:only-of-type {\n",
       "        vertical-align: middle;\n",
       "    }\n",
       "\n",
       "    .dataframe tbody tr th {\n",
       "        vertical-align: top;\n",
       "    }\n",
       "\n",
       "    .dataframe thead th {\n",
       "        text-align: right;\n",
       "    }\n",
       "</style>\n",
       "<table border=\"1\" class=\"dataframe\">\n",
       "  <thead>\n",
       "    <tr style=\"text-align: right;\">\n",
       "      <th></th>\n",
       "      <th>budget</th>\n",
       "      <th>genres</th>\n",
       "      <th>homepage</th>\n",
       "      <th>id</th>\n",
       "      <th>keywords</th>\n",
       "      <th>original_language</th>\n",
       "      <th>original_title</th>\n",
       "      <th>overview</th>\n",
       "      <th>popularity</th>\n",
       "      <th>production_companies</th>\n",
       "      <th>production_countries</th>\n",
       "      <th>release_date</th>\n",
       "      <th>revenue</th>\n",
       "      <th>runtime</th>\n",
       "      <th>spoken_languages</th>\n",
       "      <th>status</th>\n",
       "      <th>tagline</th>\n",
       "      <th>title</th>\n",
       "      <th>vote_average</th>\n",
       "      <th>vote_count</th>\n",
       "    </tr>\n",
       "  </thead>\n",
       "  <tbody>\n",
       "    <tr>\n",
       "      <th>0</th>\n",
       "      <td>237000000</td>\n",
       "      <td>[{\"id\": 28, \"name\": \"Action\"}, {\"id\": 12, \"nam...</td>\n",
       "      <td>http://www.avatarmovie.com/</td>\n",
       "      <td>19995</td>\n",
       "      <td>[{\"id\": 1463, \"name\": \"culture clash\"}, {\"id\":...</td>\n",
       "      <td>en</td>\n",
       "      <td>Avatar</td>\n",
       "      <td>In the 22nd century, a paraplegic Marine is di...</td>\n",
       "      <td>150.437577</td>\n",
       "      <td>[{\"name\": \"Ingenious Film Partners\", \"id\": 289...</td>\n",
       "      <td>[{\"iso_3166_1\": \"US\", \"name\": \"United States o...</td>\n",
       "      <td>2009-12-10</td>\n",
       "      <td>2787965087</td>\n",
       "      <td>162.0</td>\n",
       "      <td>[{\"iso_639_1\": \"en\", \"name\": \"English\"}, {\"iso...</td>\n",
       "      <td>Released</td>\n",
       "      <td>Enter the World of Pandora.</td>\n",
       "      <td>Avatar</td>\n",
       "      <td>7.2</td>\n",
       "      <td>11800</td>\n",
       "    </tr>\n",
       "    <tr>\n",
       "      <th>1</th>\n",
       "      <td>300000000</td>\n",
       "      <td>[{\"id\": 12, \"name\": \"Adventure\"}, {\"id\": 14, \"...</td>\n",
       "      <td>http://disney.go.com/disneypictures/pirates/</td>\n",
       "      <td>285</td>\n",
       "      <td>[{\"id\": 270, \"name\": \"ocean\"}, {\"id\": 726, \"na...</td>\n",
       "      <td>en</td>\n",
       "      <td>Pirates of the Caribbean: At World's End</td>\n",
       "      <td>Captain Barbossa, long believed to be dead, ha...</td>\n",
       "      <td>139.082615</td>\n",
       "      <td>[{\"name\": \"Walt Disney Pictures\", \"id\": 2}, {\"...</td>\n",
       "      <td>[{\"iso_3166_1\": \"US\", \"name\": \"United States o...</td>\n",
       "      <td>2007-05-19</td>\n",
       "      <td>961000000</td>\n",
       "      <td>169.0</td>\n",
       "      <td>[{\"iso_639_1\": \"en\", \"name\": \"English\"}]</td>\n",
       "      <td>Released</td>\n",
       "      <td>At the end of the world, the adventure begins.</td>\n",
       "      <td>Pirates of the Caribbean: At World's End</td>\n",
       "      <td>6.9</td>\n",
       "      <td>4500</td>\n",
       "    </tr>\n",
       "  </tbody>\n",
       "</table>\n",
       "</div>"
      ],
      "text/plain": [
       "      budget                                             genres  \\\n",
       "0  237000000  [{\"id\": 28, \"name\": \"Action\"}, {\"id\": 12, \"nam...   \n",
       "1  300000000  [{\"id\": 12, \"name\": \"Adventure\"}, {\"id\": 14, \"...   \n",
       "\n",
       "                                       homepage     id  \\\n",
       "0                   http://www.avatarmovie.com/  19995   \n",
       "1  http://disney.go.com/disneypictures/pirates/    285   \n",
       "\n",
       "                                            keywords original_language  \\\n",
       "0  [{\"id\": 1463, \"name\": \"culture clash\"}, {\"id\":...                en   \n",
       "1  [{\"id\": 270, \"name\": \"ocean\"}, {\"id\": 726, \"na...                en   \n",
       "\n",
       "                             original_title  \\\n",
       "0                                    Avatar   \n",
       "1  Pirates of the Caribbean: At World's End   \n",
       "\n",
       "                                            overview  popularity  \\\n",
       "0  In the 22nd century, a paraplegic Marine is di...  150.437577   \n",
       "1  Captain Barbossa, long believed to be dead, ha...  139.082615   \n",
       "\n",
       "                                production_companies  \\\n",
       "0  [{\"name\": \"Ingenious Film Partners\", \"id\": 289...   \n",
       "1  [{\"name\": \"Walt Disney Pictures\", \"id\": 2}, {\"...   \n",
       "\n",
       "                                production_countries release_date     revenue  \\\n",
       "0  [{\"iso_3166_1\": \"US\", \"name\": \"United States o...   2009-12-10  2787965087   \n",
       "1  [{\"iso_3166_1\": \"US\", \"name\": \"United States o...   2007-05-19   961000000   \n",
       "\n",
       "   runtime                                   spoken_languages    status  \\\n",
       "0    162.0  [{\"iso_639_1\": \"en\", \"name\": \"English\"}, {\"iso...  Released   \n",
       "1    169.0           [{\"iso_639_1\": \"en\", \"name\": \"English\"}]  Released   \n",
       "\n",
       "                                          tagline  \\\n",
       "0                     Enter the World of Pandora.   \n",
       "1  At the end of the world, the adventure begins.   \n",
       "\n",
       "                                      title  vote_average  vote_count  \n",
       "0                                    Avatar           7.2       11800  \n",
       "1  Pirates of the Caribbean: At World's End           6.9        4500  "
      ]
     },
     "execution_count": 31,
     "metadata": {},
     "output_type": "execute_result"
    }
   ],
   "source": [
    "df_movies.head(2)"
   ]
  },
  {
   "cell_type": "code",
   "execution_count": 32,
   "id": "c0d6e4d5",
   "metadata": {
    "scrolled": false
   },
   "outputs": [
    {
     "data": {
      "text/html": [
       "<div>\n",
       "<style scoped>\n",
       "    .dataframe tbody tr th:only-of-type {\n",
       "        vertical-align: middle;\n",
       "    }\n",
       "\n",
       "    .dataframe tbody tr th {\n",
       "        vertical-align: top;\n",
       "    }\n",
       "\n",
       "    .dataframe thead th {\n",
       "        text-align: right;\n",
       "    }\n",
       "</style>\n",
       "<table border=\"1\" class=\"dataframe\">\n",
       "  <thead>\n",
       "    <tr style=\"text-align: right;\">\n",
       "      <th></th>\n",
       "      <th>budget</th>\n",
       "      <th>genres</th>\n",
       "      <th>homepage</th>\n",
       "      <th>id</th>\n",
       "      <th>keywords</th>\n",
       "      <th>original_language</th>\n",
       "      <th>original_title</th>\n",
       "      <th>overview</th>\n",
       "      <th>popularity</th>\n",
       "      <th>production_companies</th>\n",
       "      <th>...</th>\n",
       "      <th>spoken_languages</th>\n",
       "      <th>status</th>\n",
       "      <th>tagline</th>\n",
       "      <th>title_x</th>\n",
       "      <th>vote_average</th>\n",
       "      <th>vote_count</th>\n",
       "      <th>movie_id</th>\n",
       "      <th>title_y</th>\n",
       "      <th>cast</th>\n",
       "      <th>crew</th>\n",
       "    </tr>\n",
       "  </thead>\n",
       "  <tbody>\n",
       "    <tr>\n",
       "      <th>0</th>\n",
       "      <td>237000000</td>\n",
       "      <td>[{\"id\": 28, \"name\": \"Action\"}, {\"id\": 12, \"nam...</td>\n",
       "      <td>http://www.avatarmovie.com/</td>\n",
       "      <td>19995</td>\n",
       "      <td>[{\"id\": 1463, \"name\": \"culture clash\"}, {\"id\":...</td>\n",
       "      <td>en</td>\n",
       "      <td>Avatar</td>\n",
       "      <td>In the 22nd century, a paraplegic Marine is di...</td>\n",
       "      <td>150.437577</td>\n",
       "      <td>[{\"name\": \"Ingenious Film Partners\", \"id\": 289...</td>\n",
       "      <td>...</td>\n",
       "      <td>[{\"iso_639_1\": \"en\", \"name\": \"English\"}, {\"iso...</td>\n",
       "      <td>Released</td>\n",
       "      <td>Enter the World of Pandora.</td>\n",
       "      <td>Avatar</td>\n",
       "      <td>7.2</td>\n",
       "      <td>11800</td>\n",
       "      <td>19995</td>\n",
       "      <td>Avatar</td>\n",
       "      <td>[{\"cast_id\": 242, \"character\": \"Jake Sully\", \"...</td>\n",
       "      <td>[{\"credit_id\": \"52fe48009251416c750aca23\", \"de...</td>\n",
       "    </tr>\n",
       "    <tr>\n",
       "      <th>1</th>\n",
       "      <td>300000000</td>\n",
       "      <td>[{\"id\": 12, \"name\": \"Adventure\"}, {\"id\": 14, \"...</td>\n",
       "      <td>http://disney.go.com/disneypictures/pirates/</td>\n",
       "      <td>285</td>\n",
       "      <td>[{\"id\": 270, \"name\": \"ocean\"}, {\"id\": 726, \"na...</td>\n",
       "      <td>en</td>\n",
       "      <td>Pirates of the Caribbean: At World's End</td>\n",
       "      <td>Captain Barbossa, long believed to be dead, ha...</td>\n",
       "      <td>139.082615</td>\n",
       "      <td>[{\"name\": \"Walt Disney Pictures\", \"id\": 2}, {\"...</td>\n",
       "      <td>...</td>\n",
       "      <td>[{\"iso_639_1\": \"en\", \"name\": \"English\"}]</td>\n",
       "      <td>Released</td>\n",
       "      <td>At the end of the world, the adventure begins.</td>\n",
       "      <td>Pirates of the Caribbean: At World's End</td>\n",
       "      <td>6.9</td>\n",
       "      <td>4500</td>\n",
       "      <td>285</td>\n",
       "      <td>Pirates of the Caribbean: At World's End</td>\n",
       "      <td>[{\"cast_id\": 4, \"character\": \"Captain Jack Spa...</td>\n",
       "      <td>[{\"credit_id\": \"52fe4232c3a36847f800b579\", \"de...</td>\n",
       "    </tr>\n",
       "  </tbody>\n",
       "</table>\n",
       "<p>2 rows × 24 columns</p>\n",
       "</div>"
      ],
      "text/plain": [
       "      budget                                             genres  \\\n",
       "0  237000000  [{\"id\": 28, \"name\": \"Action\"}, {\"id\": 12, \"nam...   \n",
       "1  300000000  [{\"id\": 12, \"name\": \"Adventure\"}, {\"id\": 14, \"...   \n",
       "\n",
       "                                       homepage     id  \\\n",
       "0                   http://www.avatarmovie.com/  19995   \n",
       "1  http://disney.go.com/disneypictures/pirates/    285   \n",
       "\n",
       "                                            keywords original_language  \\\n",
       "0  [{\"id\": 1463, \"name\": \"culture clash\"}, {\"id\":...                en   \n",
       "1  [{\"id\": 270, \"name\": \"ocean\"}, {\"id\": 726, \"na...                en   \n",
       "\n",
       "                             original_title  \\\n",
       "0                                    Avatar   \n",
       "1  Pirates of the Caribbean: At World's End   \n",
       "\n",
       "                                            overview  popularity  \\\n",
       "0  In the 22nd century, a paraplegic Marine is di...  150.437577   \n",
       "1  Captain Barbossa, long believed to be dead, ha...  139.082615   \n",
       "\n",
       "                                production_companies  ...  \\\n",
       "0  [{\"name\": \"Ingenious Film Partners\", \"id\": 289...  ...   \n",
       "1  [{\"name\": \"Walt Disney Pictures\", \"id\": 2}, {\"...  ...   \n",
       "\n",
       "                                    spoken_languages    status  \\\n",
       "0  [{\"iso_639_1\": \"en\", \"name\": \"English\"}, {\"iso...  Released   \n",
       "1           [{\"iso_639_1\": \"en\", \"name\": \"English\"}]  Released   \n",
       "\n",
       "                                          tagline  \\\n",
       "0                     Enter the World of Pandora.   \n",
       "1  At the end of the world, the adventure begins.   \n",
       "\n",
       "                                    title_x vote_average vote_count movie_id  \\\n",
       "0                                    Avatar          7.2      11800    19995   \n",
       "1  Pirates of the Caribbean: At World's End          6.9       4500      285   \n",
       "\n",
       "                                    title_y  \\\n",
       "0                                    Avatar   \n",
       "1  Pirates of the Caribbean: At World's End   \n",
       "\n",
       "                                                cast  \\\n",
       "0  [{\"cast_id\": 242, \"character\": \"Jake Sully\", \"...   \n",
       "1  [{\"cast_id\": 4, \"character\": \"Captain Jack Spa...   \n",
       "\n",
       "                                                crew  \n",
       "0  [{\"credit_id\": \"52fe48009251416c750aca23\", \"de...  \n",
       "1  [{\"credit_id\": \"52fe4232c3a36847f800b579\", \"de...  \n",
       "\n",
       "[2 rows x 24 columns]"
      ]
     },
     "execution_count": 32,
     "metadata": {},
     "output_type": "execute_result"
    }
   ],
   "source": [
    "#Merging Movies dataframe & Credits dataframe on Movie_id column\n",
    "df_movies = df_movies.merge(df_credits, left_on='id', right_on='movie_id')\n",
    "df_movies.head(2)"
   ]
  },
  {
   "cell_type": "code",
   "execution_count": 33,
   "id": "67d4b4d0",
   "metadata": {},
   "outputs": [
    {
     "data": {
      "text/plain": [
       "0"
      ]
     },
     "execution_count": 33,
     "metadata": {},
     "output_type": "execute_result"
    }
   ],
   "source": [
    "#Dropping duplicates\n",
    "df_movies.drop_duplicates(inplace=True)\n",
    "#Checking duplicates\n",
    "df_movies.duplicated().sum()"
   ]
  },
  {
   "cell_type": "code",
   "execution_count": 34,
   "id": "c84243de",
   "metadata": {
    "scrolled": true
   },
   "outputs": [
    {
     "data": {
      "text/plain": [
       "budget                     0\n",
       "genres                     0\n",
       "homepage                3091\n",
       "id                         0\n",
       "keywords                   0\n",
       "original_language          0\n",
       "original_title             0\n",
       "overview                   3\n",
       "popularity                 0\n",
       "production_companies       0\n",
       "production_countries       0\n",
       "release_date               1\n",
       "revenue                    0\n",
       "runtime                    2\n",
       "spoken_languages           0\n",
       "status                     0\n",
       "tagline                  844\n",
       "title_x                    0\n",
       "vote_average               0\n",
       "vote_count                 0\n",
       "movie_id                   0\n",
       "title_y                    0\n",
       "cast                       0\n",
       "crew                       0\n",
       "dtype: int64"
      ]
     },
     "execution_count": 34,
     "metadata": {},
     "output_type": "execute_result"
    }
   ],
   "source": [
    "#Checking null values\n",
    "df_movies.isnull().sum()"
   ]
  },
  {
   "cell_type": "code",
   "execution_count": 35,
   "id": "ecf58f31",
   "metadata": {},
   "outputs": [],
   "source": [
    "#filling 'tagline' and 'overview' column NULL values with specific text\n",
    "df_movies.tagline.fillna('unspecified tagline',inplace=True)\n",
    "df_movies.overview.fillna('unspecified overview',inplace=True)"
   ]
  },
  {
   "cell_type": "code",
   "execution_count": 36,
   "id": "1c39ec9e",
   "metadata": {},
   "outputs": [],
   "source": [
    "#Droping 'homepage column'\n",
    "df_movies.drop('homepage', inplace=True, axis=1)"
   ]
  },
  {
   "cell_type": "code",
   "execution_count": 37,
   "id": "c63bb37b",
   "metadata": {},
   "outputs": [],
   "source": [
    "#Dropping all remaining null value containing rows and all duplicate rows\n",
    "df_movies.dropna(inplace=True)"
   ]
  },
  {
   "cell_type": "code",
   "execution_count": 38,
   "id": "279d45c6",
   "metadata": {},
   "outputs": [
    {
     "data": {
      "text/plain": [
       "budget                  0\n",
       "genres                  0\n",
       "id                      0\n",
       "keywords                0\n",
       "original_language       0\n",
       "original_title          0\n",
       "overview                0\n",
       "popularity              0\n",
       "production_companies    0\n",
       "production_countries    0\n",
       "release_date            0\n",
       "revenue                 0\n",
       "runtime                 0\n",
       "spoken_languages        0\n",
       "status                  0\n",
       "tagline                 0\n",
       "title_x                 0\n",
       "vote_average            0\n",
       "vote_count              0\n",
       "movie_id                0\n",
       "title_y                 0\n",
       "cast                    0\n",
       "crew                    0\n",
       "dtype: int64"
      ]
     },
     "execution_count": 38,
     "metadata": {},
     "output_type": "execute_result"
    }
   ],
   "source": [
    "#Checking null values\n",
    "df_movies.isnull().sum()\n",
    "\n",
    "#df_movies = df_movies.reset_index(drop=True)"
   ]
  },
  {
   "cell_type": "code",
   "execution_count": 39,
   "id": "d3e05cc1",
   "metadata": {},
   "outputs": [
    {
     "name": "stdout",
     "output_type": "stream",
     "text": [
      "Rows With Zero Values In The Budget Column: 1036\n",
      "Rows With Zero Values In The Revenue Column: 1424\n"
     ]
    }
   ],
   "source": [
    "#checking 0 budget and revenue\n",
    "# Checking for an zero values in the budget and revenue columns\n",
    "\n",
    "print(\"Rows With Zero Values In The Budget Column:\",df_movies[(df_movies['budget']==0)].shape[0])\n",
    "print(\"Rows With Zero Values In The Revenue Column:\",df_movies[(df_movies['revenue']==0)].shape[0])"
   ]
  },
  {
   "cell_type": "code",
   "execution_count": 40,
   "id": "fe68353f",
   "metadata": {},
   "outputs": [
    {
     "data": {
      "text/html": [
       "<div>\n",
       "<style scoped>\n",
       "    .dataframe tbody tr th:only-of-type {\n",
       "        vertical-align: middle;\n",
       "    }\n",
       "\n",
       "    .dataframe tbody tr th {\n",
       "        vertical-align: top;\n",
       "    }\n",
       "\n",
       "    .dataframe thead th {\n",
       "        text-align: right;\n",
       "    }\n",
       "</style>\n",
       "<table border=\"1\" class=\"dataframe\">\n",
       "  <thead>\n",
       "    <tr style=\"text-align: right;\">\n",
       "      <th></th>\n",
       "      <th>budget</th>\n",
       "      <th>genres</th>\n",
       "      <th>id</th>\n",
       "      <th>keywords</th>\n",
       "      <th>original_language</th>\n",
       "      <th>original_title</th>\n",
       "      <th>overview</th>\n",
       "      <th>popularity</th>\n",
       "      <th>production_companies</th>\n",
       "      <th>production_countries</th>\n",
       "      <th>...</th>\n",
       "      <th>spoken_languages</th>\n",
       "      <th>status</th>\n",
       "      <th>tagline</th>\n",
       "      <th>title_x</th>\n",
       "      <th>vote_average</th>\n",
       "      <th>vote_count</th>\n",
       "      <th>movie_id</th>\n",
       "      <th>title_y</th>\n",
       "      <th>cast</th>\n",
       "      <th>crew</th>\n",
       "    </tr>\n",
       "  </thead>\n",
       "  <tbody>\n",
       "    <tr>\n",
       "      <th>265</th>\n",
       "      <td>0</td>\n",
       "      <td>[{\"id\": 35, \"name\": \"Comedy\"}, {\"id\": 14, \"nam...</td>\n",
       "      <td>10588</td>\n",
       "      <td>[{\"id\": 977, \"name\": \"cat\"}, {\"id\": 1155, \"nam...</td>\n",
       "      <td>en</td>\n",
       "      <td>The Cat in the Hat</td>\n",
       "      <td>Conrad and Sally Walden are home alone with th...</td>\n",
       "      <td>18.251129</td>\n",
       "      <td>[{\"name\": \"Imagine Entertainment\", \"id\": 23}, ...</td>\n",
       "      <td>[{\"iso_3166_1\": \"US\", \"name\": \"United States o...</td>\n",
       "      <td>...</td>\n",
       "      <td>[{\"iso_639_1\": \"en\", \"name\": \"English\"}]</td>\n",
       "      <td>Released</td>\n",
       "      <td>Don't mess with the hat.</td>\n",
       "      <td>The Cat in the Hat</td>\n",
       "      <td>4.9</td>\n",
       "      <td>366</td>\n",
       "      <td>10588</td>\n",
       "      <td>The Cat in the Hat</td>\n",
       "      <td>[{\"cast_id\": 1, \"character\": \"The Cat\", \"credi...</td>\n",
       "      <td>[{\"credit_id\": \"52fe438d9251416c75014d95\", \"de...</td>\n",
       "    </tr>\n",
       "    <tr>\n",
       "      <th>321</th>\n",
       "      <td>0</td>\n",
       "      <td>[{\"id\": 35, \"name\": \"Comedy\"}]</td>\n",
       "      <td>77953</td>\n",
       "      <td>[{\"id\": 6078, \"name\": \"politics\"}, {\"id\": 6083...</td>\n",
       "      <td>en</td>\n",
       "      <td>The Campaign</td>\n",
       "      <td>Two rival politicians compete to win an electi...</td>\n",
       "      <td>16.460356</td>\n",
       "      <td>[{\"name\": \"Everyman Pictures\", \"id\": 2242}, {\"...</td>\n",
       "      <td>[{\"iso_3166_1\": \"US\", \"name\": \"United States o...</td>\n",
       "      <td>...</td>\n",
       "      <td>[{\"iso_639_1\": \"en\", \"name\": \"English\"}]</td>\n",
       "      <td>Released</td>\n",
       "      <td>May The Best Loser Win.</td>\n",
       "      <td>The Campaign</td>\n",
       "      <td>5.6</td>\n",
       "      <td>578</td>\n",
       "      <td>77953</td>\n",
       "      <td>The Campaign</td>\n",
       "      <td>[{\"cast_id\": 12, \"character\": \"Cam Brady\", \"cr...</td>\n",
       "      <td>[{\"credit_id\": \"587ea5eb9251413f1b02b874\", \"de...</td>\n",
       "    </tr>\n",
       "    <tr>\n",
       "      <th>359</th>\n",
       "      <td>0</td>\n",
       "      <td>[{\"id\": 12, \"name\": \"Adventure\"}, {\"id\": 16, \"...</td>\n",
       "      <td>258509</td>\n",
       "      <td>[{\"id\": 10986, \"name\": \"chipmunk\"}, {\"id\": 109...</td>\n",
       "      <td>en</td>\n",
       "      <td>Alvin and the Chipmunks: The Road Chip</td>\n",
       "      <td>Through a series of misunderstandings, Alvin, ...</td>\n",
       "      <td>27.867368</td>\n",
       "      <td>[{\"name\": \"Regency Enterprises\", \"id\": 508}, {...</td>\n",
       "      <td>[{\"iso_3166_1\": \"US\", \"name\": \"United States o...</td>\n",
       "      <td>...</td>\n",
       "      <td>[{\"iso_639_1\": \"en\", \"name\": \"English\"}]</td>\n",
       "      <td>Released</td>\n",
       "      <td>Fast &amp; furry-ous</td>\n",
       "      <td>Alvin and the Chipmunks: The Road Chip</td>\n",
       "      <td>5.8</td>\n",
       "      <td>428</td>\n",
       "      <td>258509</td>\n",
       "      <td>Alvin and the Chipmunks: The Road Chip</td>\n",
       "      <td>[{\"cast_id\": 16, \"character\": \"Dave\", \"credit_...</td>\n",
       "      <td>[{\"credit_id\": \"565c2c3f9251416919007486\", \"de...</td>\n",
       "    </tr>\n",
       "  </tbody>\n",
       "</table>\n",
       "<p>3 rows × 23 columns</p>\n",
       "</div>"
      ],
      "text/plain": [
       "     budget                                             genres      id  \\\n",
       "265       0  [{\"id\": 35, \"name\": \"Comedy\"}, {\"id\": 14, \"nam...   10588   \n",
       "321       0                     [{\"id\": 35, \"name\": \"Comedy\"}]   77953   \n",
       "359       0  [{\"id\": 12, \"name\": \"Adventure\"}, {\"id\": 16, \"...  258509   \n",
       "\n",
       "                                              keywords original_language  \\\n",
       "265  [{\"id\": 977, \"name\": \"cat\"}, {\"id\": 1155, \"nam...                en   \n",
       "321  [{\"id\": 6078, \"name\": \"politics\"}, {\"id\": 6083...                en   \n",
       "359  [{\"id\": 10986, \"name\": \"chipmunk\"}, {\"id\": 109...                en   \n",
       "\n",
       "                             original_title  \\\n",
       "265                      The Cat in the Hat   \n",
       "321                            The Campaign   \n",
       "359  Alvin and the Chipmunks: The Road Chip   \n",
       "\n",
       "                                              overview  popularity  \\\n",
       "265  Conrad and Sally Walden are home alone with th...   18.251129   \n",
       "321  Two rival politicians compete to win an electi...   16.460356   \n",
       "359  Through a series of misunderstandings, Alvin, ...   27.867368   \n",
       "\n",
       "                                  production_companies  \\\n",
       "265  [{\"name\": \"Imagine Entertainment\", \"id\": 23}, ...   \n",
       "321  [{\"name\": \"Everyman Pictures\", \"id\": 2242}, {\"...   \n",
       "359  [{\"name\": \"Regency Enterprises\", \"id\": 508}, {...   \n",
       "\n",
       "                                  production_countries  ...  \\\n",
       "265  [{\"iso_3166_1\": \"US\", \"name\": \"United States o...  ...   \n",
       "321  [{\"iso_3166_1\": \"US\", \"name\": \"United States o...  ...   \n",
       "359  [{\"iso_3166_1\": \"US\", \"name\": \"United States o...  ...   \n",
       "\n",
       "                             spoken_languages    status  \\\n",
       "265  [{\"iso_639_1\": \"en\", \"name\": \"English\"}]  Released   \n",
       "321  [{\"iso_639_1\": \"en\", \"name\": \"English\"}]  Released   \n",
       "359  [{\"iso_639_1\": \"en\", \"name\": \"English\"}]  Released   \n",
       "\n",
       "                      tagline                                 title_x  \\\n",
       "265  Don't mess with the hat.                      The Cat in the Hat   \n",
       "321   May The Best Loser Win.                            The Campaign   \n",
       "359          Fast & furry-ous  Alvin and the Chipmunks: The Road Chip   \n",
       "\n",
       "    vote_average vote_count movie_id                                 title_y  \\\n",
       "265          4.9        366    10588                      The Cat in the Hat   \n",
       "321          5.6        578    77953                            The Campaign   \n",
       "359          5.8        428   258509  Alvin and the Chipmunks: The Road Chip   \n",
       "\n",
       "                                                  cast  \\\n",
       "265  [{\"cast_id\": 1, \"character\": \"The Cat\", \"credi...   \n",
       "321  [{\"cast_id\": 12, \"character\": \"Cam Brady\", \"cr...   \n",
       "359  [{\"cast_id\": 16, \"character\": \"Dave\", \"credit_...   \n",
       "\n",
       "                                                  crew  \n",
       "265  [{\"credit_id\": \"52fe438d9251416c75014d95\", \"de...  \n",
       "321  [{\"credit_id\": \"587ea5eb9251413f1b02b874\", \"de...  \n",
       "359  [{\"credit_id\": \"565c2c3f9251416919007486\", \"de...  \n",
       "\n",
       "[3 rows x 23 columns]"
      ]
     },
     "execution_count": 40,
     "metadata": {},
     "output_type": "execute_result"
    }
   ],
   "source": [
    "#zero budget\n",
    "#Using loc to filter rows\n",
    "zero_budget = df_movies.loc[df_movies['budget']==0,:]\n",
    "zero_budget.head(3)"
   ]
  },
  {
   "cell_type": "code",
   "execution_count": 41,
   "id": "19afd7dd",
   "metadata": {},
   "outputs": [
    {
     "data": {
      "text/html": [
       "<div>\n",
       "<style scoped>\n",
       "    .dataframe tbody tr th:only-of-type {\n",
       "        vertical-align: middle;\n",
       "    }\n",
       "\n",
       "    .dataframe tbody tr th {\n",
       "        vertical-align: top;\n",
       "    }\n",
       "\n",
       "    .dataframe thead th {\n",
       "        text-align: right;\n",
       "    }\n",
       "</style>\n",
       "<table border=\"1\" class=\"dataframe\">\n",
       "  <thead>\n",
       "    <tr style=\"text-align: right;\">\n",
       "      <th></th>\n",
       "      <th>budget</th>\n",
       "      <th>genres</th>\n",
       "      <th>id</th>\n",
       "      <th>keywords</th>\n",
       "      <th>original_language</th>\n",
       "      <th>original_title</th>\n",
       "      <th>overview</th>\n",
       "      <th>popularity</th>\n",
       "      <th>production_companies</th>\n",
       "      <th>production_countries</th>\n",
       "      <th>...</th>\n",
       "      <th>spoken_languages</th>\n",
       "      <th>status</th>\n",
       "      <th>tagline</th>\n",
       "      <th>title_x</th>\n",
       "      <th>vote_average</th>\n",
       "      <th>vote_count</th>\n",
       "      <th>movie_id</th>\n",
       "      <th>title_y</th>\n",
       "      <th>cast</th>\n",
       "      <th>crew</th>\n",
       "    </tr>\n",
       "  </thead>\n",
       "  <tbody>\n",
       "    <tr>\n",
       "      <th>83</th>\n",
       "      <td>27000000</td>\n",
       "      <td>[{\"id\": 28, \"name\": \"Action\"}, {\"id\": 12, \"nam...</td>\n",
       "      <td>79698</td>\n",
       "      <td>[]</td>\n",
       "      <td>en</td>\n",
       "      <td>The Lovers</td>\n",
       "      <td>The Lovers is an epic romance time travel adve...</td>\n",
       "      <td>2.418535</td>\n",
       "      <td>[{\"name\": \"Corsan\", \"id\": 7299}, {\"name\": \"Bli...</td>\n",
       "      <td>[{\"iso_3166_1\": \"AU\", \"name\": \"Australia\"}, {\"...</td>\n",
       "      <td>...</td>\n",
       "      <td>[{\"iso_639_1\": \"en\", \"name\": \"English\"}]</td>\n",
       "      <td>Released</td>\n",
       "      <td>Love is longer than life.</td>\n",
       "      <td>The Lovers</td>\n",
       "      <td>4.8</td>\n",
       "      <td>34</td>\n",
       "      <td>79698</td>\n",
       "      <td>The Lovers</td>\n",
       "      <td>[{\"cast_id\": 11, \"character\": \"James Stewart /...</td>\n",
       "      <td>[{\"credit_id\": \"52fe49e0c3a368484e145067\", \"de...</td>\n",
       "    </tr>\n",
       "    <tr>\n",
       "      <th>135</th>\n",
       "      <td>150000000</td>\n",
       "      <td>[{\"id\": 18, \"name\": \"Drama\"}, {\"id\": 27, \"name...</td>\n",
       "      <td>7978</td>\n",
       "      <td>[{\"id\": 494, \"name\": \"father son relationship\"...</td>\n",
       "      <td>en</td>\n",
       "      <td>The Wolfman</td>\n",
       "      <td>Lawrence Talbot, an American man on a visit to...</td>\n",
       "      <td>21.214571</td>\n",
       "      <td>[{\"name\": \"Universal Pictures\", \"id\": 33}, {\"n...</td>\n",
       "      <td>[{\"iso_3166_1\": \"US\", \"name\": \"United States o...</td>\n",
       "      <td>...</td>\n",
       "      <td>[{\"iso_639_1\": \"en\", \"name\": \"English\"}]</td>\n",
       "      <td>Released</td>\n",
       "      <td>When the moon is full the legend comes to life</td>\n",
       "      <td>The Wolfman</td>\n",
       "      <td>5.5</td>\n",
       "      <td>549</td>\n",
       "      <td>7978</td>\n",
       "      <td>The Wolfman</td>\n",
       "      <td>[{\"cast_id\": 3, \"character\": \"Lawrence Talbot\"...</td>\n",
       "      <td>[{\"credit_id\": \"538aeb0a0e0a266718000fc2\", \"de...</td>\n",
       "    </tr>\n",
       "    <tr>\n",
       "      <th>265</th>\n",
       "      <td>0</td>\n",
       "      <td>[{\"id\": 35, \"name\": \"Comedy\"}, {\"id\": 14, \"nam...</td>\n",
       "      <td>10588</td>\n",
       "      <td>[{\"id\": 977, \"name\": \"cat\"}, {\"id\": 1155, \"nam...</td>\n",
       "      <td>en</td>\n",
       "      <td>The Cat in the Hat</td>\n",
       "      <td>Conrad and Sally Walden are home alone with th...</td>\n",
       "      <td>18.251129</td>\n",
       "      <td>[{\"name\": \"Imagine Entertainment\", \"id\": 23}, ...</td>\n",
       "      <td>[{\"iso_3166_1\": \"US\", \"name\": \"United States o...</td>\n",
       "      <td>...</td>\n",
       "      <td>[{\"iso_639_1\": \"en\", \"name\": \"English\"}]</td>\n",
       "      <td>Released</td>\n",
       "      <td>Don't mess with the hat.</td>\n",
       "      <td>The Cat in the Hat</td>\n",
       "      <td>4.9</td>\n",
       "      <td>366</td>\n",
       "      <td>10588</td>\n",
       "      <td>The Cat in the Hat</td>\n",
       "      <td>[{\"cast_id\": 1, \"character\": \"The Cat\", \"credi...</td>\n",
       "      <td>[{\"credit_id\": \"52fe438d9251416c75014d95\", \"de...</td>\n",
       "    </tr>\n",
       "  </tbody>\n",
       "</table>\n",
       "<p>3 rows × 23 columns</p>\n",
       "</div>"
      ],
      "text/plain": [
       "        budget                                             genres     id  \\\n",
       "83    27000000  [{\"id\": 28, \"name\": \"Action\"}, {\"id\": 12, \"nam...  79698   \n",
       "135  150000000  [{\"id\": 18, \"name\": \"Drama\"}, {\"id\": 27, \"name...   7978   \n",
       "265          0  [{\"id\": 35, \"name\": \"Comedy\"}, {\"id\": 14, \"nam...  10588   \n",
       "\n",
       "                                              keywords original_language  \\\n",
       "83                                                  []                en   \n",
       "135  [{\"id\": 494, \"name\": \"father son relationship\"...                en   \n",
       "265  [{\"id\": 977, \"name\": \"cat\"}, {\"id\": 1155, \"nam...                en   \n",
       "\n",
       "         original_title                                           overview  \\\n",
       "83           The Lovers  The Lovers is an epic romance time travel adve...   \n",
       "135         The Wolfman  Lawrence Talbot, an American man on a visit to...   \n",
       "265  The Cat in the Hat  Conrad and Sally Walden are home alone with th...   \n",
       "\n",
       "     popularity                               production_companies  \\\n",
       "83     2.418535  [{\"name\": \"Corsan\", \"id\": 7299}, {\"name\": \"Bli...   \n",
       "135   21.214571  [{\"name\": \"Universal Pictures\", \"id\": 33}, {\"n...   \n",
       "265   18.251129  [{\"name\": \"Imagine Entertainment\", \"id\": 23}, ...   \n",
       "\n",
       "                                  production_countries  ...  \\\n",
       "83   [{\"iso_3166_1\": \"AU\", \"name\": \"Australia\"}, {\"...  ...   \n",
       "135  [{\"iso_3166_1\": \"US\", \"name\": \"United States o...  ...   \n",
       "265  [{\"iso_3166_1\": \"US\", \"name\": \"United States o...  ...   \n",
       "\n",
       "                             spoken_languages    status  \\\n",
       "83   [{\"iso_639_1\": \"en\", \"name\": \"English\"}]  Released   \n",
       "135  [{\"iso_639_1\": \"en\", \"name\": \"English\"}]  Released   \n",
       "265  [{\"iso_639_1\": \"en\", \"name\": \"English\"}]  Released   \n",
       "\n",
       "                                            tagline             title_x  \\\n",
       "83                        Love is longer than life.          The Lovers   \n",
       "135  When the moon is full the legend comes to life         The Wolfman   \n",
       "265                        Don't mess with the hat.  The Cat in the Hat   \n",
       "\n",
       "    vote_average vote_count movie_id             title_y  \\\n",
       "83           4.8         34    79698          The Lovers   \n",
       "135          5.5        549     7978         The Wolfman   \n",
       "265          4.9        366    10588  The Cat in the Hat   \n",
       "\n",
       "                                                  cast  \\\n",
       "83   [{\"cast_id\": 11, \"character\": \"James Stewart /...   \n",
       "135  [{\"cast_id\": 3, \"character\": \"Lawrence Talbot\"...   \n",
       "265  [{\"cast_id\": 1, \"character\": \"The Cat\", \"credi...   \n",
       "\n",
       "                                                  crew  \n",
       "83   [{\"credit_id\": \"52fe49e0c3a368484e145067\", \"de...  \n",
       "135  [{\"credit_id\": \"538aeb0a0e0a266718000fc2\", \"de...  \n",
       "265  [{\"credit_id\": \"52fe438d9251416c75014d95\", \"de...  \n",
       "\n",
       "[3 rows x 23 columns]"
      ]
     },
     "execution_count": 41,
     "metadata": {},
     "output_type": "execute_result"
    }
   ],
   "source": [
    "#zero Revenue\n",
    "#Using loc to filter rows\n",
    "zero_revenue = df_movies.loc[df_movies['revenue']==0,:]\n",
    "zero_revenue.head(3)"
   ]
  },
  {
   "cell_type": "markdown",
   "id": "8f17f44a",
   "metadata": {},
   "source": [
    "# Visualization"
   ]
  },
  {
   "cell_type": "code",
   "execution_count": 43,
   "id": "fa77b3c7",
   "metadata": {},
   "outputs": [
    {
     "name": "stdout",
     "output_type": "stream",
     "text": [
      "<class 'pandas.core.frame.DataFrame'>\n",
      "Int64Index: 4800 entries, 0 to 4802\n",
      "Data columns (total 23 columns):\n",
      " #   Column                Non-Null Count  Dtype  \n",
      "---  ------                --------------  -----  \n",
      " 0   budget                4800 non-null   int64  \n",
      " 1   genres                4800 non-null   object \n",
      " 2   id                    4800 non-null   int64  \n",
      " 3   keywords              4800 non-null   object \n",
      " 4   original_language     4800 non-null   object \n",
      " 5   original_title        4800 non-null   object \n",
      " 6   overview              4800 non-null   object \n",
      " 7   popularity            4800 non-null   float64\n",
      " 8   production_companies  4800 non-null   object \n",
      " 9   production_countries  4800 non-null   object \n",
      " 10  release_date          4800 non-null   object \n",
      " 11  revenue               4800 non-null   int64  \n",
      " 12  runtime               4800 non-null   float64\n",
      " 13  spoken_languages      4800 non-null   object \n",
      " 14  status                4800 non-null   object \n",
      " 15  tagline               4800 non-null   object \n",
      " 16  title_x               4800 non-null   object \n",
      " 17  vote_average          4800 non-null   float64\n",
      " 18  vote_count            4800 non-null   int64  \n",
      " 19  movie_id              4800 non-null   int64  \n",
      " 20  title_y               4800 non-null   object \n",
      " 21  cast                  4800 non-null   object \n",
      " 22  crew                  4800 non-null   object \n",
      "dtypes: float64(3), int64(5), object(15)\n",
      "memory usage: 900.0+ KB\n"
     ]
    }
   ],
   "source": [
    "df_movies.info()"
   ]
  },
  {
   "cell_type": "code",
   "execution_count": 45,
   "id": "66083f67",
   "metadata": {},
   "outputs": [],
   "source": [
    "#the the given in the dataset is in string format.\n",
    "#So we need to change this in datetime format\n",
    "\n",
    "df_movies['release_date'] = pd.to_datetime(df_movies['release_date'])\n",
    "df_movies['release_date'].head()\n",
    "\n",
    "\n",
    "#extracting movie release year from the date column and creating a new column release_year\n",
    "df_movies['release_year'] = df_movies['release_date'].dt.strftime('%Y')\n",
    "#Converting dataType object to int\n",
    "df_movies['release_year'] = df_movies['release_year'].astype(\"int64\")\n",
    "#df_movies.info()"
   ]
  },
  {
   "cell_type": "code",
   "execution_count": 46,
   "id": "d5e9924d",
   "metadata": {},
   "outputs": [
    {
     "name": "stdout",
     "output_type": "stream",
     "text": [
      "release_year\n",
      "2013    231\n",
      "2014    238\n",
      "2015    214\n",
      "2016    104\n",
      "2017      1\n",
      "Name: id, dtype: int64\n"
     ]
    },
    {
     "data": {
      "image/png": "[encoded data removed]",
      "text/plain": [
       "<Figure size 432x288 with 1 Axes>"
      ]
     },
     "metadata": {
      "needs_background": "light"
     },
     "output_type": "display_data"
    }
   ],
   "source": [
    "#Year wise Movies Release status\n",
    "\n",
    "# making group for each year and count the number of movies in each of that year \n",
    "year_wise_movie_release=df_movies.groupby('release_year').count()['id']\n",
    "print(year_wise_movie_release.tail())\n",
    "\n",
    "#make group of the data according to their release year and count the total number of movies in each year and pot.\n",
    "year_wise_movie_release.plot(xticks = np.arange(1916,2017,5))\n",
    "\n",
    "#set the figure size and labels\n",
    "plt.title(\"Year Vs Number of movies released\",fontsize = 15)\n",
    "plt.xlabel('Release year',fontsize = 12)\n",
    "plt.ylabel('Number Of Movies',fontsize = 12)\n",
    "sns.set_style(\"whitegrid\")\n",
    "#Cropping desired plot\n",
    "plt.xlim([1960,2016])\n",
    "plt.show()"
   ]
  },
  {
   "cell_type": "code",
   "execution_count": 47,
   "id": "8b228eb1",
   "metadata": {},
   "outputs": [
    {
     "data": {
      "image/png": "[encoded data removed]",
      "text/plain": [
       "<Figure size 720x360 with 1 Axes>"
      ]
     },
     "metadata": {},
     "output_type": "display_data"
    }
   ],
   "source": [
    "#Language wise movies distribution\n",
    "\n",
    "#Grouping Values into 'original_language' and then counting the number of movies in that 'original_language'\n",
    "#then shorting them in descending order\n",
    "\n",
    "language_groups = df_movies.groupby(['original_language'])['id'].count().sort_values(ascending=False)\n",
    "#Getting top 10 languages\n",
    "top_origin_language = language_groups.head(10)\n",
    "#Drawing Bar Graph of this \n",
    "\n",
    "top_origin_language.plot(kind='bar', figsize=(10, 5))\n",
    "plt.title(\"Orignial Language Vs Number of movies released\",fontsize = 15)\n",
    "plt.xlabel('Original Language',fontsize = 14)\n",
    "plt.ylabel('Number Of Movies',fontsize = 14)\n",
    "plt.show()"
   ]
  },
  {
   "cell_type": "code",
   "execution_count": 48,
   "id": "c876baf4",
   "metadata": {
    "scrolled": true
   },
   "outputs": [
    {
     "data": {
      "image/png": "[encoded data removed]",
      "text/plain": [
       "<Figure size 432x288 with 1 Axes>"
      ]
     },
     "metadata": {},
     "output_type": "display_data"
    }
   ],
   "source": [
    "#Get popular movies\n",
    "\n",
    "#Shorting movies by popularity column ( int )\n",
    "sorted_popularity = df_movies.sort_values(by = 'popularity',ascending= False)\n",
    "\n",
    "#Inverting Y axis\n",
    "plt.gca().invert_yaxis()\n",
    "plt.title\n",
    "#Making horizontal bar plot\n",
    "plt.barh(sorted_popularity['original_title'].head(10),sorted_popularity['popularity'].head(10))\n",
    "\n",
    "plt.title(\"All Time Popular Movies\",fontsize = 15)\n",
    "plt.xlabel('Popularity Score',fontsize = 14)\n",
    "plt.ylabel('Name Of Movies',fontsize = 14)\n",
    "\n",
    "plt.show()"
   ]
  },
  {
   "cell_type": "code",
   "execution_count": 49,
   "id": "58f9423b",
   "metadata": {
    "scrolled": true
   },
   "outputs": [
    {
     "data": {
      "image/png": "[encoded data removed]",
      "text/plain": [
       "<Figure size 720x576 with 1 Axes>"
      ]
     },
     "metadata": {},
     "output_type": "display_data"
    }
   ],
   "source": [
    "#Showing Popular Genres\n",
    "\n",
    "#Creating Empty List\n",
    "genres_list = list()\n",
    "\n",
    "for i in df_movies['genres']:\n",
    "    data = json.loads(i)\n",
    "    #parsing every genre from this movie\n",
    "    for dictonary in data:\n",
    "        #Getting data of key-value pair\n",
    "        genres_list.append(dictonary.get('name'))\n",
    "\n",
    "#print(genres_list)\n",
    "#Converting list to numpy array to find unique values\n",
    "genres_array = np.array(genres_list)\n",
    "unique, counts = np.unique(genres_array, return_counts=True)\n",
    "\n",
    "#showing plot\n",
    "plt.subplots(figsize=(10,8))\n",
    "plt.title(\"All Time Most Published Genres\",fontsize = 15)\n",
    "plt.xlabel('Number of Movies released in Genre',fontsize = 14)\n",
    "plt.ylabel('Genre',fontsize = 14)\n",
    "plt.gca().invert_yaxis()\n",
    "plt.barh(unique,counts)\n",
    "plt.show()"
   ]
  },
  {
   "cell_type": "code",
   "execution_count": 50,
   "id": "29d657e8",
   "metadata": {},
   "outputs": [
    {
     "data": {
      "text/plain": [
       "<AxesSubplot:>"
      ]
     },
     "execution_count": 50,
     "metadata": {},
     "output_type": "execute_result"
    },
    {
     "data": {
      "image/png": "[encoded data removed]",
      "text/plain": [
       "<Figure size 432x288 with 2 Axes>"
      ]
     },
     "metadata": {},
     "output_type": "display_data"
    }
   ],
   "source": [
    "#Correlation between variables\n",
    "\n",
    "sns.heatmap(df_movies.corr(), annot = True)"
   ]
  },
  {
   "cell_type": "code",
   "execution_count": 51,
   "id": "e2f33dfd",
   "metadata": {
    "scrolled": true
   },
   "outputs": [
    {
     "name": "stdout",
     "output_type": "stream",
     "text": [
      "Columns of dataframe\n",
      "Index(['budget', 'genres', 'id', 'keywords', 'original_language',\n",
      "       'original_title', 'overview', 'popularity', 'production_companies',\n",
      "       'production_countries', 'release_date', 'revenue', 'runtime',\n",
      "       'spoken_languages', 'status', 'tagline', 'title_x', 'vote_average',\n",
      "       'vote_count', 'movie_id', 'title_y', 'cast', 'crew', 'release_year'],\n",
      "      dtype='object')\n",
      "column number of original_title column\n",
      "5\n",
      "column number of vote_average column\n",
      "17\n"
     ]
    }
   ],
   "source": [
    "# Highest rated movies\n",
    "\n",
    "#sort the 'vote_average' column in decending order and store it in the new dataframe.\n",
    "highest_rated_movies =  df_movies.sort_values(by = 'vote_average',ascending= False)\n",
    "\n",
    "highest_rated_movies = highest_rated_movies.head(10)\n",
    "\n",
    "print(\"Columns of dataframe\")\n",
    "print(highest_rated_movies.columns)\n",
    "\n",
    "print(\"column number of original_title column\")\n",
    "print(highest_rated_movies.columns.get_loc('original_title'))\n",
    "\n",
    "print(\"column number of vote_average column\")\n",
    "print(highest_rated_movies.columns.get_loc('vote_average'))"
   ]
  },
  {
   "cell_type": "code",
   "execution_count": 52,
   "id": "67f157ce",
   "metadata": {
    "scrolled": true
   },
   "outputs": [
    {
     "data": {
      "image/png": "[encoded data removed]",
      "text/plain": [
       "<Figure size 432x288 with 1 Axes>"
      ]
     },
     "metadata": {},
     "output_type": "display_data"
    }
   ],
   "source": [
    "#Using iLoc to get value of columns and convert them to numpy array\n",
    "#With iloc we have to use column number wehereas we use column name with loc\n",
    "X = highest_rated_movies.iloc[:,5]\n",
    "Y = highest_rated_movies.iloc[:,17]\n",
    "\n",
    "#Plotting point graph with seaborn library\n",
    "ax = sns.pointplot(x=Y,y=X)\n",
    "sns.set(rc={'figure.figsize':(10,5)})\n",
    "ax.set_title(\"Top Highest rated movies\",fontsize = 15)\n",
    "ax.set_xlabel(\"Rating\",fontsize = 14)\n",
    "sns.set_style(\"darkgrid\")"
   ]
  },
  {
   "cell_type": "code",
   "execution_count": 53,
   "id": "a06864aa",
   "metadata": {},
   "outputs": [],
   "source": [
    "# Reusable function to get data from tmdb API\n",
    "\n",
    "def show_full_movie_detail_from_tmdb(movie_id):\n",
    "    api_url = 'https://api.themoviedb.org/3/movie/'+ str(movie_id) + '?api_key=aefefef46369fdf0d6421312a28a9d87'\n",
    "    #print(api_url)\n",
    "    response = requests.get(api_url)\n",
    "    if(response.status_code==200):\n",
    "        #print(api_url)\n",
    "        json_response = response.json()\n",
    "        \n",
    "        print(\"Movie Name : \"+ json_response['original_title'])\n",
    "        print(\"tagline : \" + json_response['tagline'])\n",
    "        print(\"\\n\")\n",
    "        print(\"popularity : \" + str(json_response['popularity']))\n",
    "        print(\"release_date : \" + json_response['release_date'])\n",
    "        print(\"budget : \" + str(json_response['budget']))\n",
    "        poster_path = json_response['poster_path']\n",
    "        poster_full_url = 'http://image.tmdb.org/t/p/w500'+poster_path\n",
    "        print(\"Poster URL : \" + poster_full_url)\n",
    "    else:\n",
    "        print(\"Couldn't find movie online, Please try again\")\n",
    "    \n"
   ]
  },
  {
   "cell_type": "code",
   "execution_count": 54,
   "id": "0a2f94ff",
   "metadata": {
    "scrolled": true
   },
   "outputs": [
    {
     "name": "stdout",
     "output_type": "stream",
     "text": [
      "[2.0862e+04 3.4500e+02 1.6653e+04 1.4359e+04 1.2000e+01 8.4870e+03\n",
      " 1.0894e+04 1.1600e+04 4.8217e+04 1.2106e+04]\n",
      "[16653. 14359.]\n",
      "------\n",
      "\n",
      "Movie Name : The Singles Ward\n",
      "tagline : The Road to Eternal Marriage Has Never Been Longer\n",
      "\n",
      "\n",
      "popularity : 3.934\n",
      "release_date : 2002-01-30\n",
      "budget : 0\n",
      "Poster URL : http://image.tmdb.org/t/p/w500/2nBsIXP4EAkFb5R6KLIAhzgtN5p.jpg\n",
      "------\n",
      "\n",
      "Movie Name : Doubt\n",
      "tagline : There is no evidence. There are no witnesses. But for one, there is no doubt.\n",
      "\n",
      "\n",
      "popularity : 12.999\n",
      "release_date : 2008-02-27\n",
      "budget : 20000000\n",
      "Poster URL : http://image.tmdb.org/t/p/w500/9lypT2ghNuUPYVJf66oe4fKvUqI.jpg\n"
     ]
    }
   ],
   "source": [
    "# Randmoly select 2 movie and getting its data from tmdb online api\n",
    "\n",
    "movie_id_list = list()\n",
    "\n",
    "#iterating ID column from dataframe\n",
    "for index, row in df_movies.iterrows():\n",
    "    movie_id_list.append(row[\"id\"])\n",
    "\n",
    "#Creating empty 1-d numpy array\n",
    "random_movies_array = np.array([])\n",
    "#appending 10 random movie ids to this array\n",
    "for i in range (0,10):\n",
    "    tmp_movie_id = random.choice(movie_id_list)\n",
    "    random_movies_array = np.append(random_movies_array, tmp_movie_id)\n",
    "\n",
    "print(random_movies_array)\n",
    "\n",
    "#Slicing first 3rd & 4th ids from these 10\n",
    "movies_array = random_movies_array[2:4]\n",
    "print(movies_array)  \n",
    "\n",
    "#using for loop to show details of these two random movies form tmdb API\n",
    "for mv_id in movies_array:\n",
    "    print(\"------\\n\")\n",
    "    show_full_movie_detail_from_tmdb(mv_id)"
   ]
  },
  {
   "cell_type": "code",
   "execution_count": 55,
   "id": "7c4d5452",
   "metadata": {},
   "outputs": [],
   "source": [
    "# function to get poster from tmdb web API\n",
    "# API key we get from https://developers.themoviedb.org/3/getting-started\n",
    "\n",
    "def get_movie_poster(movie_id):\n",
    "    \n",
    "    api_url = 'https://api.themoviedb.org/3/movie/'+ str(movie_id) + '?api_key=aefefef46369fdf0d6421312a28a9d87'\n",
    "    #print(api_url)\n",
    "    response = requests.get(api_url)\n",
    "    if(response.status_code==200):\n",
    "        json_response = response.json()\n",
    "        poster_path = json_response['poster_path']\n",
    "        poster_full_url = 'http://image.tmdb.org/t/p/w500'+poster_path\n",
    "        #print(poster_full_url)\n",
    "        return poster_full_url\n",
    "    else:\n",
    "        return None\n"
   ]
  },
  {
   "cell_type": "code",
   "execution_count": null,
   "id": "b911aa1c",
   "metadata": {},
   "outputs": [],
   "source": [
    "#This will create a new column poster and put poster URL of the movie in this column\n",
    "#This might take a bit long to process all rows\n",
    "\n",
    "df_movies['poster'] = df_movies['id'].apply(lambda x : get_movie_poster(x))"
   ]
  },
  {
   "cell_type": "code",
   "execution_count": null,
   "id": "1fdc24a7",
   "metadata": {},
   "outputs": [],
   "source": [
    "df_movies.head(2)"
   ]
  }
 ],
 "metadata": {
  "kernelspec": {
   "display_name": "Python 3 (ipykernel)",
   "language": "python",
   "name": "python3"
  },
  "language_info": {
   "codemirror_mode": {
    "name": "ipython",
    "version": 3
   },
   "file_extension": ".py",
   "mimetype": "text/x-python",
   "name": "python",
   "nbconvert_exporter": "python",
   "pygments_lexer": "ipython3",
   "version": "3.9.7"
  }
 },
 "nbformat": 4,
 "nbformat_minor": 5
}
